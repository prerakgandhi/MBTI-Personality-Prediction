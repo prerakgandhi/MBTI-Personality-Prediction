{
 "cells": [
  {
   "cell_type": "code",
   "execution_count": 1,
   "metadata": {},
   "outputs": [],
   "source": [
    "import pandas as pd\n",
    "import numpy as np\n",
    "import matplotlib.pyplot as plt\n",
    "from sklearn.metrics import confusion_matrix, classification_report\n",
    "from sklearn.model_selection import train_test_split, cross_val_score\n",
    "from sklearn.tree import DecisionTreeClassifier\n",
    "from sklearn.ensemble import RandomForestClassifier\n",
    "from sklearn.neighbors import KNeighborsClassifier\n",
    "from sklearn.preprocessing import LabelEncoder\n",
    "import pickle\n",
    "import re\n",
    "from sklearn.feature_extraction.text import TfidfVectorizer\n",
    "import nltk\n",
    "#nltk.download('wordnet')\n",
    "from nltk.corpus import stopwords, wordnet\n",
    "from nltk.stem import WordNetLemmatizer\n",
    "from wordcloud import WordCloud"
   ]
  },
  {
   "cell_type": "code",
   "execution_count": 3,
   "metadata": {},
   "outputs": [],
   "source": [
    "df = pd.read_csv(\"mbti_1.csv\")"
   ]
  },
  {
   "cell_type": "code",
   "execution_count": 4,
   "metadata": {},
   "outputs": [
    {
     "data": {
      "text/html": [
       "<div>\n",
       "<style scoped>\n",
       "    .dataframe tbody tr th:only-of-type {\n",
       "        vertical-align: middle;\n",
       "    }\n",
       "\n",
       "    .dataframe tbody tr th {\n",
       "        vertical-align: top;\n",
       "    }\n",
       "\n",
       "    .dataframe thead th {\n",
       "        text-align: right;\n",
       "    }\n",
       "</style>\n",
       "<table border=\"1\" class=\"dataframe\">\n",
       "  <thead>\n",
       "    <tr style=\"text-align: right;\">\n",
       "      <th></th>\n",
       "      <th>type</th>\n",
       "      <th>posts</th>\n",
       "    </tr>\n",
       "  </thead>\n",
       "  <tbody>\n",
       "    <tr>\n",
       "      <th>0</th>\n",
       "      <td>INFJ</td>\n",
       "      <td>'http://www.youtube.com/watch?v=qsXHcwe3krw|||...</td>\n",
       "    </tr>\n",
       "    <tr>\n",
       "      <th>1</th>\n",
       "      <td>ENTP</td>\n",
       "      <td>'I'm finding the lack of me in these posts ver...</td>\n",
       "    </tr>\n",
       "    <tr>\n",
       "      <th>2</th>\n",
       "      <td>INTP</td>\n",
       "      <td>'Good one  _____   https://www.youtube.com/wat...</td>\n",
       "    </tr>\n",
       "    <tr>\n",
       "      <th>3</th>\n",
       "      <td>INTJ</td>\n",
       "      <td>'Dear INTP,   I enjoyed our conversation the o...</td>\n",
       "    </tr>\n",
       "    <tr>\n",
       "      <th>4</th>\n",
       "      <td>ENTJ</td>\n",
       "      <td>'You're fired.|||That's another silly misconce...</td>\n",
       "    </tr>\n",
       "  </tbody>\n",
       "</table>\n",
       "</div>"
      ],
      "text/plain": [
       "   type                                              posts\n",
       "0  INFJ  'http://www.youtube.com/watch?v=qsXHcwe3krw|||...\n",
       "1  ENTP  'I'm finding the lack of me in these posts ver...\n",
       "2  INTP  'Good one  _____   https://www.youtube.com/wat...\n",
       "3  INTJ  'Dear INTP,   I enjoyed our conversation the o...\n",
       "4  ENTJ  'You're fired.|||That's another silly misconce..."
      ]
     },
     "execution_count": 4,
     "metadata": {},
     "output_type": "execute_result"
    }
   ],
   "source": [
    "df.head()"
   ]
  },
  {
   "cell_type": "code",
   "execution_count": 5,
   "metadata": {},
   "outputs": [
    {
     "name": "stdout",
     "output_type": "stream",
     "text": [
      "<class 'pandas.core.frame.DataFrame'>\n",
      "RangeIndex: 8675 entries, 0 to 8674\n",
      "Data columns (total 2 columns):\n",
      " #   Column  Non-Null Count  Dtype \n",
      "---  ------  --------------  ----- \n",
      " 0   type    8675 non-null   object\n",
      " 1   posts   8675 non-null   object\n",
      "dtypes: object(2)\n",
      "memory usage: 135.7+ KB\n"
     ]
    }
   ],
   "source": [
    "df.info()"
   ]
  },
  {
   "cell_type": "code",
   "execution_count": 6,
   "metadata": {},
   "outputs": [
    {
     "data": {
      "text/html": [
       "<div>\n",
       "<style scoped>\n",
       "    .dataframe tbody tr th:only-of-type {\n",
       "        vertical-align: middle;\n",
       "    }\n",
       "\n",
       "    .dataframe tbody tr th {\n",
       "        vertical-align: top;\n",
       "    }\n",
       "\n",
       "    .dataframe thead th {\n",
       "        text-align: right;\n",
       "    }\n",
       "</style>\n",
       "<table border=\"1\" class=\"dataframe\">\n",
       "  <thead>\n",
       "    <tr style=\"text-align: right;\">\n",
       "      <th></th>\n",
       "      <th>type</th>\n",
       "      <th>posts</th>\n",
       "    </tr>\n",
       "  </thead>\n",
       "  <tbody>\n",
       "    <tr>\n",
       "      <th>count</th>\n",
       "      <td>8675</td>\n",
       "      <td>8675</td>\n",
       "    </tr>\n",
       "    <tr>\n",
       "      <th>unique</th>\n",
       "      <td>16</td>\n",
       "      <td>8675</td>\n",
       "    </tr>\n",
       "    <tr>\n",
       "      <th>top</th>\n",
       "      <td>INFP</td>\n",
       "      <td>'Could we get a 'could go either way' option?|...</td>\n",
       "    </tr>\n",
       "    <tr>\n",
       "      <th>freq</th>\n",
       "      <td>1832</td>\n",
       "      <td>1</td>\n",
       "    </tr>\n",
       "  </tbody>\n",
       "</table>\n",
       "</div>"
      ],
      "text/plain": [
       "        type                                              posts\n",
       "count   8675                                               8675\n",
       "unique    16                                               8675\n",
       "top     INFP  'Could we get a 'could go either way' option?|...\n",
       "freq    1832                                                  1"
      ]
     },
     "execution_count": 6,
     "metadata": {},
     "output_type": "execute_result"
    }
   ],
   "source": [
    "df.describe()"
   ]
  },
  {
   "cell_type": "code",
   "execution_count": 7,
   "metadata": {},
   "outputs": [
    {
     "data": {
      "text/plain": [
       "INFP    1832\n",
       "INFJ    1470\n",
       "INTP    1304\n",
       "INTJ    1091\n",
       "ENTP     685\n",
       "ENFP     675\n",
       "ISTP     337\n",
       "ISFP     271\n",
       "ENTJ     231\n",
       "ISTJ     205\n",
       "ENFJ     190\n",
       "ISFJ     166\n",
       "ESTP      89\n",
       "ESFP      48\n",
       "ESFJ      42\n",
       "ESTJ      39\n",
       "Name: type, dtype: int64"
      ]
     },
     "execution_count": 7,
     "metadata": {},
     "output_type": "execute_result"
    }
   ],
   "source": [
    "df['type'].value_counts()"
   ]
  },
  {
   "cell_type": "code",
   "execution_count": 8,
   "metadata": {},
   "outputs": [
    {
     "data": {
      "text/plain": [
       "0       'http://www.youtube.com/watch?v=qsXHcwe3krw|||...\n",
       "1       'I'm finding the lack of me in these posts ver...\n",
       "2       'Good one  _____   https://www.youtube.com/wat...\n",
       "3       'Dear INTP,   I enjoyed our conversation the o...\n",
       "4       'You're fired.|||That's another silly misconce...\n",
       "                              ...                        \n",
       "8670    'https://www.youtube.com/watch?v=t8edHB_h908||...\n",
       "8671    'So...if this thread already exists someplace ...\n",
       "8672    'So many questions when i do these things.  I ...\n",
       "8673    'I am very conflicted right now when it comes ...\n",
       "8674    'It has been too long since I have been on per...\n",
       "Name: posts, Length: 8675, dtype: object"
      ]
     },
     "execution_count": 8,
     "metadata": {},
     "output_type": "execute_result"
    }
   ],
   "source": [
    "df['posts']"
   ]
  },
  {
   "cell_type": "code",
   "execution_count": 9,
   "metadata": {},
   "outputs": [],
   "source": [
    "df = df.dropna(axis=0)"
   ]
  },
  {
   "cell_type": "code",
   "execution_count": 25,
   "metadata": {},
   "outputs": [],
   "source": [
    "def clear_text(data):\n",
    "    data_length=[]\n",
    "    lemmatizer=WordNetLemmatizer()\n",
    "    cleaned_text=[]\n",
    "    for sentence in data.posts:\n",
    "        sentence=sentence.lower()\n",
    "        \n",
    "       # removing links from text data\n",
    "        sentence=re.sub('https?://[^\\s<>\"]+|www\\.[^\\s<>\"]+',' ',sentence)\n",
    "    \n",
    "       #  removing other symbols\n",
    "        sentence=re.sub('[^0-9a-z]',' ',sentence)\n",
    "    \n",
    "        \n",
    "        data_length.append(len(sentence.split()))\n",
    "        cleaned_text.append(sentence)\n",
    "    return cleaned_text,data_length"
   ]
  },
  {
   "cell_type": "code",
   "execution_count": 10,
   "metadata": {},
   "outputs": [],
   "source": [
    "clear_df = df.copy()"
   ]
  },
  {
   "cell_type": "code",
   "execution_count": 12,
   "metadata": {},
   "outputs": [],
   "source": [
    "clear_df['len_post'] = clear_df['posts'].apply(lambda x: len(x))"
   ]
  },
  {
   "cell_type": "code",
   "execution_count": 23,
   "metadata": {},
   "outputs": [
    {
     "data": {
      "text/plain": [
       "7234.98962536023"
      ]
     },
     "execution_count": 23,
     "metadata": {},
     "output_type": "execute_result"
    }
   ],
   "source": [
    "clear_df.len_post.mean()"
   ]
  },
  {
   "cell_type": "code",
   "execution_count": 26,
   "metadata": {},
   "outputs": [],
   "source": [
    "clear_df.posts, _ = clear_text(clear_df)"
   ]
  },
  {
   "cell_type": "code",
   "execution_count": 27,
   "metadata": {},
   "outputs": [],
   "source": [
    "clear_df['postlen'] = clear_df['posts'].apply(lambda x: len(x))"
   ]
  },
  {
   "cell_type": "code",
   "execution_count": 87,
   "metadata": {},
   "outputs": [
    {
     "data": {
      "text/plain": [
       "7047.929798270893"
      ]
     },
     "execution_count": 87,
     "metadata": {},
     "output_type": "execute_result"
    }
   ],
   "source": [
    "clear_df.postlen.mean()"
   ]
  },
  {
   "cell_type": "code",
   "execution_count": 31,
   "metadata": {},
   "outputs": [
    {
     "data": {
      "text/plain": [
       "' would be interested in a detailed answer to this question also  would love to answer properly but i agree and i my view is yes  because i procrastinate every day in many areas of my life       i believe we are superb at being perfectionists and it causes many problems in life for me    sent from my samsung galaxy note 2   thanks for that advice  i m used to writing a few paragraphs  usually around 300 characters    i agree with your thoughts on this and i will speak to my psychologist and see if that helps         i agree  it s mind numbing and the engery i had to put into understanding it was out of the ordinary  i was maybe to quick to judge how good his reply actually was    in a sense i don t think it      perhaps i should have reread the whole thing a couple of times  i do this a lot  where i get confused about what the reply is trying to say  maybe my mind was elsewhere trying to concentrate on his      haha i actually read these before i m on the mailing list for this website    thanks for pointing them out though  rereading them won t hurt    i feel my problem is more of a mental block and      i have been reading around the internet about us intps and i stumbled on a post on another forum  originally posted in 2008  this guy explained his problems and i can relate heavily with how he      thanks for the replies everyone  constructive criticism is always a good thing   i have always wanted to work for myself and earn my own income  i m intp and autonomy is what i crave most  i love      this is me everyday  you couldn t have described me better lol     sent from my gt n7100 using tapatalk   i got this from the personalityjunkie website and i would like to hear others experiences and opinions on this  or if you could explain it in your own words   reason i ask is i want to understand      you don t have an example you can give me do you    sent from my gt n7100 using tapatalk   thanks for the above suggestions and advice  i do find walking my source of inspiration as it does help the mind generate ideas  sent from my gt n7100 using tapatalk   definitely agree with you tangosthenes  i m like that too  we re i m distracted by my own mind  drugs help me enormously when wanting to use my mind more creatively  i dont think it s weird for you      that certainly makes tons of sense indeed  thanks for that polly      sent from my gt n7100 using tapatalk   just read that pdf and i can relate to this soo much  i have looked at add and adhd in adults  i have researched the symptoms and behaviours of persons with add and adhd as adults  i have to say i m      start by doing what  what motivates an intp to get out of the thoughts and the mumbo jumbo going on in the head  to finally get started    sent from my gt n7100 using tapatalk   i m starting to think i want to be with an intp myself  but not sure on an intp   intp relationship   sent from my gt n7100 using tapatalk   you know this actually resembles me in a large amount  i would be that type of intp and i ve just actually found out i did this about a week ago  i have been close to this girl for a while but i      you know your intp when you have been surrounded by others having small talk and you can t be there so you get up and leave to be alone and think  sent from my gt n7100 using tapatalk   that helps tremendously so it does thank you b    i m quite like you in terms of grasping ideas and quickly making sense and can explain the main points and facts of a speech to someone who has      so can you give some examples of breaking down some complex idea or situation    are you saying you focus on non fiction so that it s easier to break down something into a broader picture covering      especially ideas where the actions are aimed at helping others    i must have a natural want to help people through my experiences in life  its usually when i sit and show gratitude for the good in      i would like to know the answer to the same above  sent from my gt n7100 using tapatalk   tried saliva back in the day   sent from my gt n7100 using tapatalk   david keirsey  please understand me ii  intps are free spirited idea mills and absentminded professors  which makes them fun to be around  easily diverted  and a plethora of unending creativity       no post secondary education is what i meant yes  i understand it s fine and there s still possible jobs  but it s those jobs that hold no meaning to me  they bore and frustrate me  i ve no desire to      i ve always been interested in writing about subjects i love but never have the motivation and desire to even start typing  the mind becomes a distraction    sent from my gt n7100 using tapatalk   i can t for the life of me except working in boring and meaningless jobs that don t offer me a reason to get out of bed    even money or the basic daily expenditure of life doesn t interest or      being goofy is fine with me    i am very alike  once i m pushed i unleash with words never before  imagined lol    i dont have the patience to hurt a fly with all that buzzing around they do lol        as an intp i was long for a relationship where someone can show me they love me through affection and care  i m not demanding in the sense but i must feel a connection and feel like there is      autonomy and less structured for me    i ve had my share of jobs and never really liked any of them apart from the call centre job where i only really enjoyed talking to people on the phone while      lol i appreciate your kindness well      you strike me as laid back and quite toyish with those comments lol     sent from my gt n7100 using tapatalk   bag of minstrels      sent from my gt n7100 using tapatalk   ahhh i see lol  i m obviously not the brightest haha  sent from my gt n7100 using tapatalk   if you worked for yourself hiring an assistant to do annoying tasks like that helps  although  then again that presents more to worry about  backtracking again  rollseyes   sent from my gt n7100      may you explain perc  is that perceiving    sent from my gt n7100 using tapatalk   yea i think you are lol  meow to begin the sentence  that s intriguing about someone s personality to me    i m thinking more along the lines of 8 10   don t ask my why but i think that s a decent      i feel this way all the time  its so frustrating and annoying and in my eyes our biggest downfall as intps    i hate jobs  i can t work in a job and be happy or feel content  i always want to be my      the title kind of gives it away  but i m not sure it s sufficient enough to better understand where i m in need of guidance here if at all  consider this a diary of my thoughts  thoughts i ve never      you don t look cause i can t see you  but you sound like a tigress yea  i can t begin to put it into words  but judging by the way you ask questions  i gather you are intriguing  i dont believe intps      would love to hear more opinions on this    sent from my gt n7100 using tapatalk   thanks  that explains it for me      sent from my gt n7100 using tapatalk      that s good then    hmm very interesting statistic  i m glad you say that well  i m not surprised you find us easy to build bonds with    i like that    and certainly not unrelated now lol  yes      no i can assure you now you don t need to question your sanity and judgement at all  lying is the seed of doubt as i like to call it    that s all you need to say to yourself  the lies are what s      i was recently told by an enfp that i must understand and develop my fe and now that makes sense when you say that    sent from my gt n7100 using tapatalk   is that your judging coming into play  what is the function that deals with that  anyone know    sent from my gt n7100 using tapatalk   i see  then accept my apologies for assuming lol  that is pretty interesting now that you say it      sent from my gt n7100 using tapatalk   i just done this about an hour ago  although on a different target  i feel your fucking pain      sent from my gt n7100 using tapatalk   could you elaborate on the crazy ne tangent    i m thinking it could be something along the lines of self sabotage  i ve no idea why or how  but to me it kind of relates to my behaviours    the      just reading this now    appreciate your kindness to put this article up for me  i shall get back to you once i have digested this      sent from my gt n7100 using tapatalk '"
      ]
     },
     "execution_count": 31,
     "metadata": {},
     "output_type": "execute_result"
    }
   ],
   "source": [
    "clear_df.posts[50]"
   ]
  },
  {
   "cell_type": "code",
   "execution_count": 74,
   "metadata": {},
   "outputs": [
    {
     "data": {
      "image/png": "[encoded data removed]",
      "text/plain": [
       "<Figure size 432x288 with 1 Axes>"
      ]
     },
     "metadata": {
      "needs_background": "light"
     },
     "output_type": "display_data"
    }
   ],
   "source": [
    "clear_df['postlen'].plot.hist(bins=50,color='green',alpha=0.5)\n",
    "plt.title(\"Average length of each post\")\n",
    "plt.xlabel(\"Number of words\")\n",
    "plt.show()"
   ]
  },
  {
   "cell_type": "code",
   "execution_count": 75,
   "metadata": {},
   "outputs": [],
   "source": [
    "test_size = 0.2\n",
    "train_data,test_data = train_test_split(df,test_size=test_size,random_state=42,stratify=df.type)"
   ]
  },
  {
   "cell_type": "code",
   "execution_count": 76,
   "metadata": {},
   "outputs": [],
   "source": [
    "train_data.posts,train_length = clear_text(train_data)\n",
    "test_data.posts,test_length = clear_text(test_data)"
   ]
  },
  {
   "cell_type": "code",
   "execution_count": 77,
   "metadata": {},
   "outputs": [
    {
     "name": "stderr",
     "output_type": "stream",
     "text": [
      "C:\\Users\\Prerak Gadhi\\anaconda3\\envs\\ddp\\lib\\site-packages\\sklearn\\feature_extraction\\text.py:516: UserWarning: The parameter 'token_pattern' will not be used since 'tokenizer' is not None'\n",
      "  warnings.warn(\n",
      "C:\\Users\\Prerak Gadhi\\anaconda3\\envs\\ddp\\lib\\site-packages\\sklearn\\feature_extraction\\text.py:396: UserWarning: Your stop_words may be inconsistent with your preprocessing. Tokenizing the stop words generated tokens ['ha', 'le', 'wa'] not in stop_words.\n",
      "  warnings.warn(\n"
     ]
    },
    {
     "data": {
      "text/plain": [
       "TfidfVectorizer(max_features=5000, stop_words='english',\n",
       "                tokenizer=<__main__.Lemmatizer object at 0x0000018A3A557CA0>)"
      ]
     },
     "execution_count": 77,
     "metadata": {},
     "output_type": "execute_result"
    }
   ],
   "source": [
    "class Lemmatizer(object):\n",
    "    def __init__(self):\n",
    "        self.lemmatizer = WordNetLemmatizer()\n",
    "    def __call__(self, sentence):\n",
    "        return [self.lemmatizer.lemmatize(word) for word in sentence.split() if len(word)>2]\n",
    "\n",
    "vectorizer = TfidfVectorizer( max_features=5000,stop_words='english',tokenizer=Lemmatizer())\n",
    "vectorizer.fit(train_data.posts)"
   ]
  },
  {
   "cell_type": "code",
   "execution_count": 78,
   "metadata": {},
   "outputs": [],
   "source": [
    "train_post = vectorizer.transform(train_data.posts).toarray()\n",
    "test_post = vectorizer.transform(test_data.posts).toarray()"
   ]
  },
  {
   "cell_type": "code",
   "execution_count": 79,
   "metadata": {},
   "outputs": [
    {
     "data": {
      "text/plain": [
       "((6940, 5000), (1735, 5000))"
      ]
     },
     "execution_count": 79,
     "metadata": {},
     "output_type": "execute_result"
    }
   ],
   "source": [
    "train_post.shape, test_post.shape"
   ]
  },
  {
   "cell_type": "code",
   "execution_count": 80,
   "metadata": {},
   "outputs": [],
   "source": [
    "target_encoder = LabelEncoder()\n",
    "train_target = target_encoder.fit_transform(train_data.type)\n",
    "test_target = target_encoder.fit_transform(test_data.type)"
   ]
  },
  {
   "cell_type": "code",
   "execution_count": null,
   "metadata": {},
   "outputs": [],
   "source": [
    "#Decision Trees"
   ]
  },
  {
   "cell_type": "code",
   "execution_count": 39,
   "metadata": {},
   "outputs": [],
   "source": [
    "dtree = DecisionTreeClassifier(random_state=2)\n",
    "dtree.fit(train_post, train_target)\n",
    "dtpred = dtree.predict(test_post)"
   ]
  },
  {
   "cell_type": "code",
   "execution_count": 40,
   "metadata": {},
   "outputs": [
    {
     "name": "stdout",
     "output_type": "stream",
     "text": [
      "              precision    recall  f1-score   support\n",
      "\n",
      "           0       0.21      0.24      0.22        38\n",
      "           1       0.44      0.49      0.46       135\n",
      "           2       0.17      0.17      0.17        46\n",
      "           3       0.40      0.36      0.38       137\n",
      "           4       0.00      0.00      0.00         9\n",
      "           5       0.00      0.00      0.00        10\n",
      "           6       0.00      0.00      0.00         8\n",
      "           7       0.26      0.28      0.27        18\n",
      "           8       0.54      0.57      0.56       294\n",
      "           9       0.59      0.57      0.58       366\n",
      "          10       0.48      0.46      0.47       218\n",
      "          11       0.54      0.51      0.53       261\n",
      "          12       0.27      0.21      0.24        33\n",
      "          13       0.30      0.33      0.32        54\n",
      "          14       0.36      0.32      0.34        41\n",
      "          15       0.45      0.57      0.50        67\n",
      "\n",
      "    accuracy                           0.48      1735\n",
      "   macro avg       0.31      0.32      0.31      1735\n",
      "weighted avg       0.48      0.48      0.48      1735\n",
      "\n",
      "[[  9   5   0   3   1   0   0   0   3   8   3   2   0   0   0   4]\n",
      " [  7  66   4   7   0   0   0   0   5  20  11   7   0   2   1   5]\n",
      " [  1   3   8   5   0   0   0   1   3   7   8   6   0   0   1   3]\n",
      " [  3   8   6  50   0   3   0   2  26   4  14  12   1   3   1   4]\n",
      " [  0   0   0   0   0   0   0   0   3   2   1   1   1   0   0   1]\n",
      " [  1   2   1   0   0   0   0   0   0   1   3   0   1   1   0   0]\n",
      " [  0   1   0   1   0   0   0   0   0   3   0   1   0   0   1   1]\n",
      " [  0   0   1   1   0   0   0   5   1   2   2   4   0   0   0   2]\n",
      " [  5  12   4  12   2   4   3   4 169  28  18  16   1   9   2   5]\n",
      " [  7  25   7   9   0   1   2   0  38 210  16  20   5  13   6   7]\n",
      " [  4  14   5   7   1   0   0   1  25  20 100  22   7   4   6   2]\n",
      " [  4   5   6  19   1   1   0   4  22  25  20 134   2   6   4   8]\n",
      " [  0   4   1   3   0   0   0   1   4   5   3   4   7   1   0   0]\n",
      " [  0   0   0   1   1   0   0   0   7  10   5   8   0  18   1   3]\n",
      " [  0   3   1   1   0   0   0   1   4   6   5   4   1   1  13   1]\n",
      " [  2   2   2   6   0   0   0   0   2   6   1   6   0   2   0  38]]\n"
     ]
    }
   ],
   "source": [
    "print(classification_report(test_target,dtpred))\n",
    "print(confusion_matrix(test_target,dtpred))"
   ]
  },
  {
   "cell_type": "code",
   "execution_count": 59,
   "metadata": {},
   "outputs": [
    {
     "name": "stdout",
     "output_type": "stream",
     "text": [
      "train classification report \n",
      "                precision    recall  f1-score   support\n",
      "\n",
      "        ENFJ       1.00      1.00      1.00       152\n",
      "        ENFP       1.00      1.00      1.00       540\n",
      "        ENTJ       1.00      1.00      1.00       185\n",
      "        ENTP       1.00      1.00      1.00       548\n",
      "        ESFJ       1.00      1.00      1.00        33\n",
      "        ESFP       1.00      1.00      1.00        38\n",
      "        ESTJ       1.00      1.00      1.00        31\n",
      "        ESTP       1.00      1.00      1.00        71\n",
      "        INFJ       1.00      1.00      1.00      1176\n",
      "        INFP       1.00      1.00      1.00      1466\n",
      "        INTJ       1.00      1.00      1.00       873\n",
      "        INTP       1.00      1.00      1.00      1043\n",
      "        ISFJ       1.00      1.00      1.00       133\n",
      "        ISFP       1.00      1.00      1.00       217\n",
      "        ISTJ       1.00      1.00      1.00       164\n",
      "        ISTP       1.00      1.00      1.00       270\n",
      "\n",
      "    accuracy                           1.00      6940\n",
      "   macro avg       1.00      1.00      1.00      6940\n",
      "weighted avg       1.00      1.00      1.00      6940\n",
      "\n",
      "test classification report \n",
      "               precision    recall  f1-score   support\n",
      "\n",
      "        ENFJ       0.21      0.24      0.22        38\n",
      "        ENFP       0.44      0.49      0.46       135\n",
      "        ENTJ       0.17      0.17      0.17        46\n",
      "        ENTP       0.40      0.36      0.38       137\n",
      "        ESFJ       0.00      0.00      0.00         9\n",
      "        ESFP       0.00      0.00      0.00        10\n",
      "        ESTJ       0.00      0.00      0.00         8\n",
      "        ESTP       0.26      0.28      0.27        18\n",
      "        INFJ       0.54      0.57      0.56       294\n",
      "        INFP       0.59      0.57      0.58       366\n",
      "        INTJ       0.48      0.46      0.47       218\n",
      "        INTP       0.54      0.51      0.53       261\n",
      "        ISFJ       0.27      0.21      0.24        33\n",
      "        ISFP       0.30      0.33      0.32        54\n",
      "        ISTJ       0.36      0.32      0.34        41\n",
      "        ISTP       0.45      0.57      0.50        67\n",
      "\n",
      "    accuracy                           0.48      1735\n",
      "   macro avg       0.31      0.32      0.31      1735\n",
      "weighted avg       0.48      0.48      0.48      1735\n",
      "\n"
     ]
    }
   ],
   "source": [
    "print('train classification report \\n ',classification_report(train_target,dtree.predict(train_post),target_names=target_encoder.inverse_transform([i for i in range(16)])))\n",
    "print('test classification report \\n',classification_report(test_target,dtree.predict(test_post),target_names=target_encoder.inverse_transform([i for i in range(16)])))"
   ]
  },
  {
   "cell_type": "code",
   "execution_count": null,
   "metadata": {},
   "outputs": [],
   "source": []
  },
  {
   "cell_type": "code",
   "execution_count": null,
   "metadata": {},
   "outputs": [],
   "source": [
    "# Random Forest"
   ]
  },
  {
   "cell_type": "code",
   "execution_count": 42,
   "metadata": {},
   "outputs": [],
   "source": [
    "rf = RandomForestClassifier(n_estimators = 100, random_state=2)\n",
    "rf.fit(train_post, train_target)\n",
    "rfpred = rf.predict(test_post)"
   ]
  },
  {
   "cell_type": "code",
   "execution_count": 43,
   "metadata": {},
   "outputs": [
    {
     "name": "stdout",
     "output_type": "stream",
     "text": [
      "              precision    recall  f1-score   support\n",
      "\n",
      "           0       0.00      0.00      0.00        38\n",
      "           1       0.72      0.36      0.48       135\n",
      "           2       0.75      0.07      0.12        46\n",
      "           3       0.59      0.24      0.34       137\n",
      "           4       0.00      0.00      0.00         9\n",
      "           5       0.00      0.00      0.00        10\n",
      "           6       0.00      0.00      0.00         8\n",
      "           7       0.00      0.00      0.00        18\n",
      "           8       0.54      0.66      0.59       294\n",
      "           9       0.45      0.85      0.59       366\n",
      "          10       0.59      0.50      0.54       218\n",
      "          11       0.59      0.72      0.65       261\n",
      "          12       1.00      0.21      0.35        33\n",
      "          13       1.00      0.04      0.07        54\n",
      "          14       1.00      0.10      0.18        41\n",
      "          15       0.80      0.30      0.43        67\n",
      "\n",
      "    accuracy                           0.53      1735\n",
      "   macro avg       0.50      0.25      0.27      1735\n",
      "weighted avg       0.57      0.53      0.49      1735\n",
      "\n",
      "[[  0   1   0   0   0   0   0   0  12  22   2   1   0   0   0   0]\n",
      " [  0  49   0   2   0   0   0   0  16  51  10   5   0   0   0   2]\n",
      " [  0   0   3   3   0   0   0   0   9  20   9   1   0   0   0   1]\n",
      " [  0   7   0  33   0   0   0   0  32  26  12  27   0   0   0   0]\n",
      " [  0   0   0   1   0   0   0   0   3   4   0   1   0   0   0   0]\n",
      " [  0   2   1   0   0   0   0   0   1   3   0   3   0   0   0   0]\n",
      " [  0   0   0   1   0   0   0   0   1   5   0   1   0   0   0   0]\n",
      " [  0   1   0   1   0   0   0   0   4   8   1   3   0   0   0   0]\n",
      " [  0   0   0   0   0   0   0   0 195  80   6  13   0   0   0   0]\n",
      " [  0   3   0   1   0   0   0   0  22 312  10  18   0   0   0   0]\n",
      " [  0   1   0   7   0   0   0   0  25  44 109  31   0   0   0   1]\n",
      " [  0   2   0   5   0   0   0   0  12  41  12 189   0   0   0   0]\n",
      " [  0   0   0   1   0   0   0   0   7  11   3   4   7   0   0   0]\n",
      " [  0   0   0   1   0   0   0   0   9  35   2   5   0   2   0   0]\n",
      " [  0   2   0   0   0   0   0   0   6  17   7   4   0   0   4   1]\n",
      " [  0   0   0   0   0   0   0   0   8  21   3  15   0   0   0  20]]\n"
     ]
    },
    {
     "name": "stderr",
     "output_type": "stream",
     "text": [
      "C:\\Users\\Prerak Gadhi\\anaconda3\\envs\\ddp\\lib\\site-packages\\sklearn\\metrics\\_classification.py:1308: UndefinedMetricWarning: Precision and F-score are ill-defined and being set to 0.0 in labels with no predicted samples. Use `zero_division` parameter to control this behavior.\n",
      "  _warn_prf(average, modifier, msg_start, len(result))\n",
      "C:\\Users\\Prerak Gadhi\\anaconda3\\envs\\ddp\\lib\\site-packages\\sklearn\\metrics\\_classification.py:1308: UndefinedMetricWarning: Precision and F-score are ill-defined and being set to 0.0 in labels with no predicted samples. Use `zero_division` parameter to control this behavior.\n",
      "  _warn_prf(average, modifier, msg_start, len(result))\n",
      "C:\\Users\\Prerak Gadhi\\anaconda3\\envs\\ddp\\lib\\site-packages\\sklearn\\metrics\\_classification.py:1308: UndefinedMetricWarning: Precision and F-score are ill-defined and being set to 0.0 in labels with no predicted samples. Use `zero_division` parameter to control this behavior.\n",
      "  _warn_prf(average, modifier, msg_start, len(result))\n"
     ]
    }
   ],
   "source": [
    "print(classification_report(test_target,rfpred))\n",
    "print(confusion_matrix(test_target,rfpred))"
   ]
  },
  {
   "cell_type": "code",
   "execution_count": 83,
   "metadata": {},
   "outputs": [
    {
     "name": "stdout",
     "output_type": "stream",
     "text": [
      "1400\n",
      "1500\n",
      "1600\n",
      "1700\n",
      "1800\n",
      "1900\n",
      "2000\n"
     ]
    }
   ],
   "source": [
    "err_rate = []\n",
    "\n",
    "for i in range(1400,2001,100):\n",
    "    \n",
    "    print(i)\n",
    "    \n",
    "    rfc = RandomForestClassifier(n_estimators = i, random_state=2)\n",
    "    \n",
    "    rfc.fit(train_post,train_target)\n",
    "    \n",
    "    prediction_i = rfc.predict(test_post)\n",
    "    \n",
    "    err_rate.append(np.mean(prediction_i != test_target))"
   ]
  },
  {
   "cell_type": "code",
   "execution_count": 84,
   "metadata": {},
   "outputs": [
    {
     "data": {
      "text/plain": [
       "Text(0, 0.5, 'Error_Rate')"
      ]
     },
     "execution_count": 84,
     "metadata": {},
     "output_type": "execute_result"
    },
    {
     "data": {
      "image/png": "[encoded data removed]",
      "text/plain": [
       "<Figure size 576x288 with 1 Axes>"
      ]
     },
     "metadata": {
      "needs_background": "light"
     },
     "output_type": "display_data"
    }
   ],
   "source": [
    "plt.figure(figsize=(8,4))\n",
    "plt.plot(range(1400,2001,100),err_rate,color='green', \n",
    "         marker='o',markerfacecolor='blue')\n",
    "plt.title('Error Rate vs. No. of Estimators')\n",
    "plt.xlabel('No. of Estimators')\n",
    "plt.ylabel('Error_Rate')"
   ]
  },
  {
   "cell_type": "code",
   "execution_count": 85,
   "metadata": {},
   "outputs": [],
   "source": [
    "rf = RandomForestClassifier(n_estimators = 1400, random_state=2)\n",
    "rf.fit(train_post, train_target)\n",
    "rfpred = rf.predict(test_post)"
   ]
  },
  {
   "cell_type": "code",
   "execution_count": 86,
   "metadata": {},
   "outputs": [
    {
     "name": "stdout",
     "output_type": "stream",
     "text": [
      "train classification report \n",
      "                precision    recall  f1-score   support\n",
      "\n",
      "        ENFJ       1.00      1.00      1.00       152\n",
      "        ENFP       1.00      1.00      1.00       540\n",
      "        ENTJ       1.00      1.00      1.00       185\n",
      "        ENTP       1.00      1.00      1.00       548\n",
      "        ESFJ       1.00      1.00      1.00        33\n",
      "        ESFP       1.00      1.00      1.00        38\n",
      "        ESTJ       1.00      1.00      1.00        31\n",
      "        ESTP       1.00      1.00      1.00        71\n",
      "        INFJ       1.00      1.00      1.00      1176\n",
      "        INFP       1.00      1.00      1.00      1466\n",
      "        INTJ       1.00      1.00      1.00       873\n",
      "        INTP       1.00      1.00      1.00      1043\n",
      "        ISFJ       1.00      1.00      1.00       133\n",
      "        ISFP       1.00      1.00      1.00       217\n",
      "        ISTJ       1.00      1.00      1.00       164\n",
      "        ISTP       1.00      1.00      1.00       270\n",
      "\n",
      "    accuracy                           1.00      6940\n",
      "   macro avg       1.00      1.00      1.00      6940\n",
      "weighted avg       1.00      1.00      1.00      6940\n",
      "\n",
      "test classification report \n",
      "               precision    recall  f1-score   support\n",
      "\n",
      "        ENFJ       0.00      0.00      0.00        38\n",
      "        ENFP       0.74      0.36      0.48       135\n",
      "        ENTJ       0.75      0.07      0.12        46\n",
      "        ENTP       0.68      0.34      0.46       137\n",
      "        ESFJ       0.00      0.00      0.00         9\n",
      "        ESFP       0.00      0.00      0.00        10\n",
      "        ESTJ       0.00      0.00      0.00         8\n",
      "        ESTP       0.00      0.00      0.00        18\n",
      "        INFJ       0.63      0.72      0.68       294\n",
      "        INFP       0.47      0.92      0.62       366\n",
      "        INTJ       0.68      0.58      0.62       218\n",
      "        INTP       0.65      0.82      0.72       261\n",
      "        ISFJ       1.00      0.06      0.11        33\n",
      "        ISFP       1.00      0.06      0.11        54\n",
      "        ISTJ       0.50      0.02      0.05        41\n",
      "        ISTP       0.88      0.33      0.48        67\n",
      "\n",
      "    accuracy                           0.58      1735\n",
      "   macro avg       0.50      0.27      0.28      1735\n",
      "weighted avg       0.62      0.58      0.53      1735\n",
      "\n"
     ]
    },
    {
     "name": "stderr",
     "output_type": "stream",
     "text": [
      "C:\\Users\\Prerak Gadhi\\anaconda3\\envs\\ddp\\lib\\site-packages\\sklearn\\metrics\\_classification.py:1308: UndefinedMetricWarning: Precision and F-score are ill-defined and being set to 0.0 in labels with no predicted samples. Use `zero_division` parameter to control this behavior.\n",
      "  _warn_prf(average, modifier, msg_start, len(result))\n",
      "C:\\Users\\Prerak Gadhi\\anaconda3\\envs\\ddp\\lib\\site-packages\\sklearn\\metrics\\_classification.py:1308: UndefinedMetricWarning: Precision and F-score are ill-defined and being set to 0.0 in labels with no predicted samples. Use `zero_division` parameter to control this behavior.\n",
      "  _warn_prf(average, modifier, msg_start, len(result))\n",
      "C:\\Users\\Prerak Gadhi\\anaconda3\\envs\\ddp\\lib\\site-packages\\sklearn\\metrics\\_classification.py:1308: UndefinedMetricWarning: Precision and F-score are ill-defined and being set to 0.0 in labels with no predicted samples. Use `zero_division` parameter to control this behavior.\n",
      "  _warn_prf(average, modifier, msg_start, len(result))\n"
     ]
    }
   ],
   "source": [
    "print('train classification report \\n ',classification_report(train_target,rf.predict(train_post),target_names=target_encoder.inverse_transform([i for i in range(16)])))\n",
    "print('test classification report \\n',classification_report(test_target,rf.predict(test_post),target_names=target_encoder.inverse_transform([i for i in range(16)])))"
   ]
  },
  {
   "cell_type": "code",
   "execution_count": 60,
   "metadata": {},
   "outputs": [
    {
     "name": "stdout",
     "output_type": "stream",
     "text": [
      "train classification report \n",
      "                precision    recall  f1-score   support\n",
      "\n",
      "        ENFJ       1.00      1.00      1.00       152\n",
      "        ENFP       1.00      1.00      1.00       540\n",
      "        ENTJ       1.00      1.00      1.00       185\n",
      "        ENTP       1.00      1.00      1.00       548\n",
      "        ESFJ       1.00      1.00      1.00        33\n",
      "        ESFP       1.00      1.00      1.00        38\n",
      "        ESTJ       1.00      1.00      1.00        31\n",
      "        ESTP       1.00      1.00      1.00        71\n",
      "        INFJ       1.00      1.00      1.00      1176\n",
      "        INFP       1.00      1.00      1.00      1466\n",
      "        INTJ       1.00      1.00      1.00       873\n",
      "        INTP       1.00      1.00      1.00      1043\n",
      "        ISFJ       1.00      1.00      1.00       133\n",
      "        ISFP       1.00      1.00      1.00       217\n",
      "        ISTJ       1.00      1.00      1.00       164\n",
      "        ISTP       1.00      1.00      1.00       270\n",
      "\n",
      "    accuracy                           1.00      6940\n",
      "   macro avg       1.00      1.00      1.00      6940\n",
      "weighted avg       1.00      1.00      1.00      6940\n",
      "\n",
      "test classification report \n",
      "               precision    recall  f1-score   support\n",
      "\n",
      "        ENFJ       1.00      0.03      0.05        38\n",
      "        ENFP       0.81      0.40      0.53       135\n",
      "        ENTJ       0.80      0.09      0.16        46\n",
      "        ENTP       0.69      0.33      0.45       137\n",
      "        ESFJ       0.00      0.00      0.00         9\n",
      "        ESFP       0.00      0.00      0.00        10\n",
      "        ESTJ       0.00      0.00      0.00         8\n",
      "        ESTP       0.00      0.00      0.00        18\n",
      "        INFJ       0.63      0.72      0.67       294\n",
      "        INFP       0.47      0.91      0.62       366\n",
      "        INTJ       0.66      0.57      0.61       218\n",
      "        INTP       0.63      0.78      0.70       261\n",
      "        ISFJ       1.00      0.12      0.22        33\n",
      "        ISFP       1.00      0.06      0.11        54\n",
      "        ISTJ       1.00      0.05      0.09        41\n",
      "        ISTP       0.79      0.28      0.42        67\n",
      "\n",
      "    accuracy                           0.58      1735\n",
      "   macro avg       0.59      0.27      0.29      1735\n",
      "weighted avg       0.65      0.58      0.53      1735\n",
      "\n"
     ]
    },
    {
     "name": "stderr",
     "output_type": "stream",
     "text": [
      "C:\\Users\\Prerak Gadhi\\anaconda3\\envs\\ddp\\lib\\site-packages\\sklearn\\metrics\\_classification.py:1308: UndefinedMetricWarning: Precision and F-score are ill-defined and being set to 0.0 in labels with no predicted samples. Use `zero_division` parameter to control this behavior.\n",
      "  _warn_prf(average, modifier, msg_start, len(result))\n",
      "C:\\Users\\Prerak Gadhi\\anaconda3\\envs\\ddp\\lib\\site-packages\\sklearn\\metrics\\_classification.py:1308: UndefinedMetricWarning: Precision and F-score are ill-defined and being set to 0.0 in labels with no predicted samples. Use `zero_division` parameter to control this behavior.\n",
      "  _warn_prf(average, modifier, msg_start, len(result))\n",
      "C:\\Users\\Prerak Gadhi\\anaconda3\\envs\\ddp\\lib\\site-packages\\sklearn\\metrics\\_classification.py:1308: UndefinedMetricWarning: Precision and F-score are ill-defined and being set to 0.0 in labels with no predicted samples. Use `zero_division` parameter to control this behavior.\n",
      "  _warn_prf(average, modifier, msg_start, len(result))\n"
     ]
    }
   ],
   "source": [
    "print('train classification report \\n ',classification_report(train_target,rf.predict(train_post),target_names=target_encoder.inverse_transform([i for i in range(16)])))\n",
    "print('test classification report \\n',classification_report(test_target,rf.predict(test_post),target_names=target_encoder.inverse_transform([i for i in range(16)])))"
   ]
  },
  {
   "cell_type": "code",
   "execution_count": null,
   "metadata": {},
   "outputs": [],
   "source": []
  },
  {
   "cell_type": "code",
   "execution_count": null,
   "metadata": {},
   "outputs": [],
   "source": [
    "#KNN"
   ]
  },
  {
   "cell_type": "code",
   "execution_count": 49,
   "metadata": {},
   "outputs": [],
   "source": [
    "# Initializing an empty list to get the error rate for every k \n",
    "err_rate = []\n",
    "\n",
    "# Let's run the for loop for k from 1 to 30, we can use range() method\n",
    "for i in range(10,51):\n",
    "    \n",
    "    # Initializing knn for k = i\n",
    "    knn = KNeighborsClassifier(n_neighbors=i)\n",
    "    \n",
    "    # fitting knn \n",
    "    knn.fit(train_post,train_target)\n",
    "    \n",
    "    # predicting for k = i\n",
    "    prediction_i = knn.predict(test_post)\n",
    "    \n",
    "    # error rate for k = i - appending to the list 'err_rate'\n",
    "    # Avg of predictions and y_test if both not equal\n",
    "    err_rate.append(np.mean(prediction_i != test_target))"
   ]
  },
  {
   "cell_type": "code",
   "execution_count": 50,
   "metadata": {},
   "outputs": [
    {
     "data": {
      "text/plain": [
       "Text(0, 0.5, 'Error_Rate')"
      ]
     },
     "execution_count": 50,
     "metadata": {},
     "output_type": "execute_result"
    },
    {
     "data": {
      "image/png": "[encoded data removed]",
      "text/plain": [
       "<Figure size 576x288 with 1 Axes>"
      ]
     },
     "metadata": {
      "needs_background": "light"
     },
     "output_type": "display_data"
    }
   ],
   "source": [
    "plt.figure(figsize=(8,4))\n",
    "plt.plot(range(10,51),err_rate,color='green', \n",
    "         marker='o',markerfacecolor='blue')\n",
    "plt.title('Error Rate vs. K Value')\n",
    "plt.xlabel('K_Value')\n",
    "plt.ylabel('Error_Rate')"
   ]
  },
  {
   "cell_type": "code",
   "execution_count": null,
   "metadata": {},
   "outputs": [],
   "source": [
    "#neighbors = 32"
   ]
  },
  {
   "cell_type": "code",
   "execution_count": null,
   "metadata": {},
   "outputs": [],
   "source": [
    "knn = KNeighborsClassifier(n_neighbors=32)\n",
    "knn.fit(train_post,train_target)\n",
    "knnpred = knn.predict(test_post)"
   ]
  },
  {
   "cell_type": "code",
   "execution_count": 52,
   "metadata": {},
   "outputs": [
    {
     "name": "stdout",
     "output_type": "stream",
     "text": [
      "[[ 13   1   1   0   0   0   0   0   6  16   0   0   0   0   0   1]\n",
      " [  2  58   2   2   0   0   0   0  20  45   2   0   1   1   1   1]\n",
      " [  0   4   9   0   0   0   0   0   8  22   1   0   1   0   0   1]\n",
      " [  0   6   0  48   1   0   0   1  36  28   6   8   0   2   0   1]\n",
      " [  0   0   0   0   3   0   0   0   4   2   0   0   0   0   0   0]\n",
      " [  0   1   1   0   0   0   0   0   2   6   0   0   0   0   0   0]\n",
      " [  0   0   0   1   0   0   2   0   3   2   0   0   0   0   0   0]\n",
      " [  1   0   0   0   0   0   0  11   1   3   0   0   0   0   0   2]\n",
      " [  2   3   0   2   1   0   0   0 190  91   2   2   0   0   0   1]\n",
      " [  0   3   0   4   1   0   0   1  25 322   7   3   0   0   0   0]\n",
      " [  0   9   0   4   1   0   0   0  45  78  63  12   2   0   3   1]\n",
      " [  1   2   1   2   0   0   0   0  40 106   5 102   0   0   2   0]\n",
      " [  0   0   0   0   0   0   0   0   5  15   1   0  12   0   0   0]\n",
      " [  1   0   0   3   1   0   0   0   8  26   2   0   0  13   0   0]\n",
      " [  0   3   0   0   0   0   0   0   3  21   0   4   1   0   9   0]\n",
      " [  0   1   0   2   0   0   0   0   7  37   0   3   0   0   0  17]]\n",
      "              precision    recall  f1-score   support\n",
      "\n",
      "           0       0.65      0.34      0.45        38\n",
      "           1       0.64      0.43      0.51       135\n",
      "           2       0.64      0.20      0.30        46\n",
      "           3       0.71      0.35      0.47       137\n",
      "           4       0.38      0.33      0.35         9\n",
      "           5       0.00      0.00      0.00        10\n",
      "           6       1.00      0.25      0.40         8\n",
      "           7       0.85      0.61      0.71        18\n",
      "           8       0.47      0.65      0.55       294\n",
      "           9       0.39      0.88      0.54       366\n",
      "          10       0.71      0.29      0.41       218\n",
      "          11       0.76      0.39      0.52       261\n",
      "          12       0.71      0.36      0.48        33\n",
      "          13       0.81      0.24      0.37        54\n",
      "          14       0.60      0.22      0.32        41\n",
      "          15       0.68      0.25      0.37        67\n",
      "\n",
      "    accuracy                           0.50      1735\n",
      "   macro avg       0.62      0.36      0.42      1735\n",
      "weighted avg       0.60      0.50      0.48      1735\n",
      "\n"
     ]
    },
    {
     "name": "stderr",
     "output_type": "stream",
     "text": [
      "C:\\Users\\Prerak Gadhi\\anaconda3\\envs\\ddp\\lib\\site-packages\\sklearn\\metrics\\_classification.py:1308: UndefinedMetricWarning: Precision and F-score are ill-defined and being set to 0.0 in labels with no predicted samples. Use `zero_division` parameter to control this behavior.\n",
      "  _warn_prf(average, modifier, msg_start, len(result))\n",
      "C:\\Users\\Prerak Gadhi\\anaconda3\\envs\\ddp\\lib\\site-packages\\sklearn\\metrics\\_classification.py:1308: UndefinedMetricWarning: Precision and F-score are ill-defined and being set to 0.0 in labels with no predicted samples. Use `zero_division` parameter to control this behavior.\n",
      "  _warn_prf(average, modifier, msg_start, len(result))\n",
      "C:\\Users\\Prerak Gadhi\\anaconda3\\envs\\ddp\\lib\\site-packages\\sklearn\\metrics\\_classification.py:1308: UndefinedMetricWarning: Precision and F-score are ill-defined and being set to 0.0 in labels with no predicted samples. Use `zero_division` parameter to control this behavior.\n",
      "  _warn_prf(average, modifier, msg_start, len(result))\n"
     ]
    }
   ],
   "source": [
    "print(confusion_matrix(test_target,knnpred))\n",
    "print(classification_report(test_target,knnpred))"
   ]
  },
  {
   "cell_type": "code",
   "execution_count": 61,
   "metadata": {},
   "outputs": [
    {
     "name": "stdout",
     "output_type": "stream",
     "text": [
      "train classification report \n",
      "                precision    recall  f1-score   support\n",
      "\n",
      "        ENFJ       0.63      0.28      0.38       152\n",
      "        ENFP       0.65      0.46      0.54       540\n",
      "        ENTJ       0.79      0.29      0.42       185\n",
      "        ENTP       0.79      0.45      0.57       548\n",
      "        ESFJ       0.45      0.39      0.42        33\n",
      "        ESFP       0.67      0.05      0.10        38\n",
      "        ESTJ       0.83      0.16      0.27        31\n",
      "        ESTP       0.78      0.25      0.38        71\n",
      "        INFJ       0.48      0.69      0.57      1176\n",
      "        INFP       0.41      0.90      0.56      1466\n",
      "        INTJ       0.72      0.30      0.42       873\n",
      "        INTP       0.77      0.39      0.52      1043\n",
      "        ISFJ       0.78      0.44      0.56       133\n",
      "        ISFP       0.82      0.24      0.37       217\n",
      "        ISTJ       0.73      0.27      0.39       164\n",
      "        ISTP       0.86      0.23      0.37       270\n",
      "\n",
      "    accuracy                           0.52      6940\n",
      "   macro avg       0.70      0.36      0.43      6940\n",
      "weighted avg       0.63      0.52      0.51      6940\n",
      "\n",
      "test classification report \n",
      "               precision    recall  f1-score   support\n",
      "\n",
      "        ENFJ       0.65      0.34      0.45        38\n",
      "        ENFP       0.64      0.43      0.51       135\n",
      "        ENTJ       0.64      0.20      0.30        46\n",
      "        ENTP       0.71      0.35      0.47       137\n",
      "        ESFJ       0.38      0.33      0.35         9\n",
      "        ESFP       0.00      0.00      0.00        10\n",
      "        ESTJ       1.00      0.25      0.40         8\n",
      "        ESTP       0.85      0.61      0.71        18\n",
      "        INFJ       0.47      0.65      0.55       294\n",
      "        INFP       0.39      0.88      0.54       366\n",
      "        INTJ       0.71      0.29      0.41       218\n",
      "        INTP       0.76      0.39      0.52       261\n",
      "        ISFJ       0.71      0.36      0.48        33\n",
      "        ISFP       0.81      0.24      0.37        54\n",
      "        ISTJ       0.60      0.22      0.32        41\n",
      "        ISTP       0.68      0.25      0.37        67\n",
      "\n",
      "    accuracy                           0.50      1735\n",
      "   macro avg       0.62      0.36      0.42      1735\n",
      "weighted avg       0.60      0.50      0.48      1735\n",
      "\n"
     ]
    },
    {
     "name": "stderr",
     "output_type": "stream",
     "text": [
      "C:\\Users\\Prerak Gadhi\\anaconda3\\envs\\ddp\\lib\\site-packages\\sklearn\\metrics\\_classification.py:1308: UndefinedMetricWarning: Precision and F-score are ill-defined and being set to 0.0 in labels with no predicted samples. Use `zero_division` parameter to control this behavior.\n",
      "  _warn_prf(average, modifier, msg_start, len(result))\n",
      "C:\\Users\\Prerak Gadhi\\anaconda3\\envs\\ddp\\lib\\site-packages\\sklearn\\metrics\\_classification.py:1308: UndefinedMetricWarning: Precision and F-score are ill-defined and being set to 0.0 in labels with no predicted samples. Use `zero_division` parameter to control this behavior.\n",
      "  _warn_prf(average, modifier, msg_start, len(result))\n",
      "C:\\Users\\Prerak Gadhi\\anaconda3\\envs\\ddp\\lib\\site-packages\\sklearn\\metrics\\_classification.py:1308: UndefinedMetricWarning: Precision and F-score are ill-defined and being set to 0.0 in labels with no predicted samples. Use `zero_division` parameter to control this behavior.\n",
      "  _warn_prf(average, modifier, msg_start, len(result))\n"
     ]
    }
   ],
   "source": [
    "print('train classification report \\n ',classification_report(train_target,knn.predict(train_post),target_names=target_encoder.inverse_transform([i for i in range(16)])))\n",
    "print('test classification report \\n',classification_report(test_target,knn.predict(test_post),target_names=target_encoder.inverse_transform([i for i in range(16)])))"
   ]
  },
  {
   "cell_type": "code",
   "execution_count": null,
   "metadata": {},
   "outputs": [],
   "source": []
  },
  {
   "cell_type": "code",
   "execution_count": null,
   "metadata": {},
   "outputs": [],
   "source": []
  },
  {
   "cell_type": "code",
   "execution_count": null,
   "metadata": {},
   "outputs": [],
   "source": []
  },
  {
   "cell_type": "code",
   "execution_count": null,
   "metadata": {},
   "outputs": [],
   "source": []
  }
 ],
 "metadata": {
  "kernelspec": {
   "display_name": "Python 3",
   "language": "python",
   "name": "python3"
  },
  "language_info": {
   "codemirror_mode": {
    "name": "ipython",
    "version": 3
   },
   "file_extension": ".py",
   "mimetype": "text/x-python",
   "name": "python",
   "nbconvert_exporter": "python",
   "pygments_lexer": "ipython3",
   "version": "3.8.5"
  }
 },
 "nbformat": 4,
 "nbformat_minor": 4
}
